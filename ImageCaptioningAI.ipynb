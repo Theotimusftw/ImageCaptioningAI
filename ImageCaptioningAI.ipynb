{
  "nbformat": 4,
  "nbformat_minor": 0,
  "metadata": {
    "colab": {
      "provenance": [],
      "authorship_tag": "ABX9TyOrWjY+7JRO0WS1HFdvAkOj",
      "include_colab_link": true
    },
    "kernelspec": {
      "name": "python3",
      "display_name": "Python 3"
    },
    "language_info": {
      "name": "python"
    }
  },
  "cells": [
    {
      "cell_type": "markdown",
      "metadata": {
        "id": "view-in-github",
        "colab_type": "text"
      },
      "source": [
        "<a href=\"https://colab.research.google.com/github/Theotimusftw/ImageCaptioningAI/blob/main/ImageCaptioningAI.ipynb\" target=\"_parent\"><img src=\"https://colab.research.google.com/assets/colab-badge.svg\" alt=\"Open In Colab\"/></a>"
      ]
    },
    {
      "cell_type": "markdown",
      "source": [
        "# Building an Image Captioning AI from Scratch\n",
        "This is my first big learning project and although I dont have much experience Im happy to jump into this fairly tricky project without knowing much because I believe learning from doing is better than learning from seeing.\n",
        "\n",
        "## Rough Idea of What It's Going to Turn out Like\n",
        "Again I currently dont know much of what Im doing but Ive been on the look out to working on **Natural Language Processing**. This project will require NLP but also computer vision, I think first I should probably tackle the computer vision part with a **Convolutional Neural Network** and then work on a **transformer model** for the captioning part. Ill start by playing around with the CNN."
      ],
      "metadata": {
        "id": "pAw4PTj-z32t"
      }
    },
    {
      "cell_type": "markdown",
      "source": [
        "## Importing Modules for Working with Computer Vision and CNNs"
      ],
      "metadata": {
        "id": "R-woqBsS3IqY"
      }
    },
    {
      "cell_type": "code",
      "source": [
        "!pip install opencv-python"
      ],
      "metadata": {
        "colab": {
          "base_uri": "https://localhost:8080/"
        },
        "id": "hV-wXpZs4xxi",
        "outputId": "95252fac-00f7-4917-ae03-1c175f1c9370"
      },
      "execution_count": null,
      "outputs": [
        {
          "output_type": "stream",
          "name": "stdout",
          "text": [
            "Requirement already satisfied: opencv-python in /usr/local/lib/python3.11/dist-packages (4.11.0.86)\n",
            "Requirement already satisfied: numpy>=1.21.2 in /usr/local/lib/python3.11/dist-packages (from opencv-python) (2.0.2)\n"
          ]
        }
      ]
    },
    {
      "cell_type": "code",
      "execution_count": null,
      "metadata": {
        "id": "Af0vsBrLnkn6"
      },
      "outputs": [],
      "source": [
        "import numpy as np\n",
        "import torch as nn\n",
        "import cv2 as cv"
      ]
    },
    {
      "cell_type": "markdown",
      "source": [],
      "metadata": {
        "id": "DPUuSS_moAeJ"
      }
    },
    {
      "cell_type": "code",
      "source": [
        "!echo \"# ImageCaptioningAI\" >> README.md\n",
        "!git init\n",
        "!git add README.md\n",
        "!git commit -m \"first commit\"\n",
        "!git branch -M main\n",
        "!git remote add origin https://github.com/Theotimusftw/ImageCaptioningAI.git\n",
        "!git push -u origin main"
      ],
      "metadata": {
        "id": "A4mHn16EzzyL",
        "colab": {
          "base_uri": "https://localhost:8080/"
        },
        "outputId": "c0882dd6-5565-4cf4-d4b8-c0830737399b"
      },
      "execution_count": 7,
      "outputs": [
        {
          "output_type": "stream",
          "name": "stdout",
          "text": [
            "\u001b[33mhint: Using 'master' as the name for the initial branch. This default branch name\u001b[m\n",
            "\u001b[33mhint: is subject to change. To configure the initial branch name to use in all\u001b[m\n",
            "\u001b[33mhint: of your new repositories, which will suppress this warning, call:\u001b[m\n",
            "\u001b[33mhint: \u001b[m\n",
            "\u001b[33mhint: \tgit config --global init.defaultBranch <name>\u001b[m\n",
            "\u001b[33mhint: \u001b[m\n",
            "\u001b[33mhint: Names commonly chosen instead of 'master' are 'main', 'trunk' and\u001b[m\n",
            "\u001b[33mhint: 'development'. The just-created branch can be renamed via this command:\u001b[m\n",
            "\u001b[33mhint: \u001b[m\n",
            "\u001b[33mhint: \tgit branch -m <name>\u001b[m\n",
            "Initialized empty Git repository in /content/.git/\n",
            "Author identity unknown\n",
            "\n",
            "*** Please tell me who you are.\n",
            "\n",
            "Run\n",
            "\n",
            "  git config --global user.email \"you@example.com\"\n",
            "  git config --global user.name \"Your Name\"\n",
            "\n",
            "to set your account's default identity.\n",
            "Omit --global to set the identity only in this repository.\n",
            "\n",
            "fatal: unable to auto-detect email address (got 'root@dc3e50613598.(none)')\n",
            "error: src refspec main does not match any\n",
            "\u001b[31merror: failed to push some refs to 'https://github.com/Theotimusftw/ImageCaptioningAI.git'\n",
            "\u001b[m"
          ]
        }
      ]
    },
    {
      "cell_type": "code",
      "source": [],
      "metadata": {
        "id": "uyeCSU_RxGI0"
      },
      "execution_count": null,
      "outputs": []
    }
  ]
}