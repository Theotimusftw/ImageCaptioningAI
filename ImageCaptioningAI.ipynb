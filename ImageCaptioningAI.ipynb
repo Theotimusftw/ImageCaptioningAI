{
  "nbformat": 4,
  "nbformat_minor": 0,
  "metadata": {
    "colab": {
      "provenance": [],
      "mount_file_id": "17qfRbL_0pG3RaKpnC2OiXU3t38-eUedZ",
      "authorship_tag": "ABX9TyME4V9mubNlqSZVQx4fzYXN",
      "include_colab_link": true
    },
    "kernelspec": {
      "name": "python3",
      "display_name": "Python 3"
    },
    "language_info": {
      "name": "python"
    }
  },
  "cells": [
    {
      "cell_type": "markdown",
      "metadata": {
        "id": "view-in-github",
        "colab_type": "text"
      },
      "source": [
        "<a href=\"https://colab.research.google.com/github/Theotimusftw/ImageCaptioningAI/blob/main/ImageCaptioningAI.ipynb\" target=\"_parent\"><img src=\"https://colab.research.google.com/assets/colab-badge.svg\" alt=\"Open In Colab\"/></a>"
      ]
    },
    {
      "cell_type": "markdown",
      "source": [
        "# Building an Image Captioning AI from Scratch\n",
        "This is my first big learning project and although I dont have much experience Im happy to jump into this fairly tricky project without knowing much because I believe learning from doing is better than learning from seeing. This will serve as a learning experience for me and hopefully for you as well. Ill try to breakdown all the complex terms because first it would mean i truly understood the concepts and second it would make it easier to revise anything incase I forget.\n",
        "\n",
        "## Rough Idea of What It's Going to Turn out Like\n",
        "Again I currently dont know much of what Im doing but Ive been on the look out to working on **Natural Language Processing**. This project will require NLP but also computer vision, I think first I should probably tackle the computer vision part with a **Convolutional Neural Network** and then work on a **transformer model** for the captioning part. Ill start by playing around with the CNN."
      ],
      "metadata": {
        "id": "pAw4PTj-z32t"
      }
    },
    {
      "cell_type": "markdown",
      "source": [
        "## Importing Modules for Working with Computer Vision and CNNs"
      ],
      "metadata": {
        "id": "R-woqBsS3IqY"
      }
    },
    {
      "cell_type": "code",
      "source": [
        "from google.colab import drive\n",
        "drive.mount('/content/drive')"
      ],
      "metadata": {
        "colab": {
          "base_uri": "https://localhost:8080/"
        },
        "id": "ZBwxxcmMf_Ht",
        "outputId": "650a68c0-701e-446f-eb28-99e3bf4a5ba3"
      },
      "execution_count": 1,
      "outputs": [
        {
          "output_type": "stream",
          "name": "stdout",
          "text": [
            "Drive already mounted at /content/drive; to attempt to forcibly remount, call drive.mount(\"/content/drive\", force_remount=True).\n"
          ]
        }
      ]
    },
    {
      "cell_type": "code",
      "execution_count": null,
      "metadata": {
        "id": "Af0vsBrLnkn6"
      },
      "outputs": [],
      "source": [
        "import numpy as np\n",
        "import torch as nn\n",
        "import cv2 as cv"
      ]
    },
    {
      "cell_type": "markdown",
      "source": [],
      "metadata": {
        "id": "DPUuSS_moAeJ"
      }
    },
    {
      "cell_type": "code",
      "source": [],
      "metadata": {
        "id": "uyeCSU_RxGI0"
      },
      "execution_count": null,
      "outputs": []
    }
  ]
}